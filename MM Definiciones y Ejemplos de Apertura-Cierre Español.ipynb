{
 "cells": [
  {
   "cell_type": "markdown",
   "id": "427e525c",
   "metadata": {},
   "source": [
    "# EJEMPLOS DE APERTURA Y CIERRE MORFOLÓGICOS\n",
    "\n",
    "Este es un corto tutorial para explicar paso a paso la apertura y el cierre morfológicos aplicados a nubes de puntos acorde el trabajo:\n",
    "\n",
    "- Balado, J., Van Oosterom, P., Díaz-Vilariño, L., & Meijers, M. (2020). Mathematical morphology directly applied to point cloud data. ISPRS Journal of Photogrammetry and Remote Sensing, 168, 208-220.\n",
    "\n",
    "Se recomienda anteriormente revisar los tutoriales de dilatación y erosión morfológicas\n"
   ]
  },
  {
   "cell_type": "markdown",
   "id": "28adb459",
   "metadata": {},
   "source": [
    "# Importación de librerías\n",
    "\n",
    "Las librerías empleadas en la morfología matemática son *numpy* y *o3d*.\n",
    "\n",
    "- https://numpy.org/\n",
    "- http://www.open3d.org/"
   ]
  },
  {
   "cell_type": "code",
   "execution_count": 2,
   "id": "4824cb2d",
   "metadata": {},
   "outputs": [
    {
     "name": "stdout",
     "output_type": "stream",
     "text": [
      "Jupyter environment detected. Enabling Open3D WebVisualizer.\n",
      "[Open3D INFO] WebRTC GUI backend enabled.\n",
      "[Open3D INFO] WebRTCWindowSystem: HTTP handshake server disabled.\n"
     ]
    }
   ],
   "source": [
    "import numpy as np\n",
    "import open3d as o3d"
   ]
  },
  {
   "cell_type": "markdown",
   "id": "0c0ee468",
   "metadata": {},
   "source": [
    "# Definición de operaciones de dilatación y erosión\n",
    "\n",
    "Como las operaciones morfológicas de apertura y cierre son combinaciones de dilatación y erosión, a continuación se definen ambas funciones sin outputs intermedios, cuyos parámetros de entrada son una nube a dilatar/erosionar, la nube del SE, y la distancia de búsqueda.\n"
   ]
  },
  {
   "cell_type": "code",
   "execution_count": 3,
   "id": "6cdafb79",
   "metadata": {},
   "outputs": [],
   "source": [
    "def mm_dilate(input_data,SE,d): \n",
    "\n",
    "    dilated_data = input_data[:,0:3]\n",
    "\n",
    "    for i in range(1,SE.shape[0]):\n",
    "        \n",
    "        # Trasladar el punto i del SE a toda la nube\n",
    "        translated_SE = input_data[:,0:3] + SE[i,:]\n",
    "\n",
    "        # Convertir a SE trasladado a objeto-nube\n",
    "        pcd_tSE = o3d.geometry.PointCloud()\n",
    "        pcd_tSE.points = o3d.utility.Vector3dVector(translated_SE)\n",
    "        \n",
    "        # Convertir la nube de puntos concadenada a objeto-nube\n",
    "        pcd_dil = o3d.geometry.PointCloud()\n",
    "        pcd_dil.points = o3d.utility.Vector3dVector(dilated_data)\n",
    "\n",
    "        # Calcular distancias entre nubes\n",
    "        dist_pcd_tSE_2_pcd_dil = pcd_tSE.compute_point_cloud_distance(pcd_dil)\n",
    "        dist_pcd_tSE_2_pcd_dil = np.asarray(dist_pcd_tSE_2_pcd_dil) \n",
    "\n",
    "         # Comprobación de existencia de puntos cercanos\n",
    "        idx_add = dist_pcd_tSE_2_pcd_dil > d/2\n",
    "        \n",
    "        # Adición de puntos nuevos a la nube concadenada \n",
    "        dilated_data = np.vstack((dilated_data,translated_SE[idx_add,0:3]))\n",
    "        \n",
    "    return dilated_data"
   ]
  },
  {
   "cell_type": "code",
   "execution_count": 4,
   "id": "673575f2",
   "metadata": {},
   "outputs": [],
   "source": [
    "def mm_erode(input_data,SE,d):\n",
    "    \n",
    "    # Convertir la nube de entrada en objeto-nube\n",
    "    pcd_in = o3d.geometry.PointCloud()\n",
    "    pcd_in.points = o3d.utility.Vector3dVector(input_data[:,0:3])\n",
    "    \n",
    "    # Generar índices de puntos a conservar\n",
    "    idx_remain = np.ones(input_data.shape[0], dtype=bool)\n",
    "\n",
    "    for i in range(1,SE.shape[0]):\n",
    "        \n",
    "        # Trasladar el punto i del SE a toda la nube\n",
    "        translated_SE = input_data[:,0:3] + SE[i,:]\n",
    "\n",
    "        # Convertir a SE trasladado a objeto-nube\n",
    "        pcd_tSE = o3d.geometry.PointCloud()\n",
    "        pcd_tSE.points = o3d.utility.Vector3dVector(translated_SE)\n",
    "\n",
    "        # Calcular distancias entre nubes\n",
    "        dist_pcd_tSE_2_pcd_in = pcd_tSE.compute_point_cloud_distance(pcd_in)\n",
    "        dist_pcd_tSE_2_pcd_in = np.asarray(dist_pcd_tSE_2_pcd_in)    \n",
    "\n",
    "        # Filtrado por distancias de puntos de la nube de entrada que coinciden con puntos del SE\n",
    "        idx_aux = dist_pcd_tSE_2_pcd_in < d\n",
    "        \n",
    "        # Combinación con la lista de puntos anterior\n",
    "        idx_remain = idx_remain * idx_aux\n",
    "\n",
    "    # Selección de los puntos de salida acorde a los indices de los puntos a conservar\n",
    "    output_data = input_data[idx_remain,0:3]    \n",
    "    \n",
    "    return output_data"
   ]
  },
  {
   "cell_type": "markdown",
   "id": "242c4dea",
   "metadata": {},
   "source": [
    "# Lectura de datos\n",
    "\n",
    "Como en los tutoriales anteriores, la lectura de la nube de entrada se hace con *numpy*. Para visualizar los datos de entrada en 3D, recurrimos a la librería *o3d*, para lo cual es necesario transformar previamente nuestra nube de puntos a un objeto nube de puntos de la librería.\n",
    "\n",
    "* Nota: los ejes predefinidos de la visualización no se corresponden con los ejes reales de la nube\n"
   ]
  },
  {
   "cell_type": "code",
   "execution_count": 5,
   "id": "f7c56af6",
   "metadata": {},
   "outputs": [],
   "source": [
    "# Lectura de datos\n",
    "input_data = np.loadtxt(\"Nubes/cubo3d.txt\", delimiter=' ')"
   ]
  },
  {
   "cell_type": "code",
   "execution_count": 6,
   "id": "6eba1259",
   "metadata": {},
   "outputs": [],
   "source": [
    "# Crear objeto nube de puntos\n",
    "pcd_in = o3d.geometry.PointCloud()\n",
    "\n",
    "# Cargar puntos en el objeto, delimitado a XYZ en caso de que la nube tenga más atributos\n",
    "pcd_in.points = o3d.utility.Vector3dVector(input_data[:,0:3])\n",
    "\n",
    "# Visualización\n",
    "o3d.visualization.draw_geometries([pcd_in])"
   ]
  },
  {
   "cell_type": "markdown",
   "id": "ee17cb90",
   "metadata": {},
   "source": [
    "# Definir Elemento Estructurante (SE)\n",
    "\n",
    "En este caso vamos a definir un elemento estructurante más complejo. Aunque la apertura y el cierre son operaciones independientes, vamos a emplear el mismo SE para ambas. Dado que las operaciones de apertura morfológica sirve para segmentar y el cierre morfológico sirve para rellenar huecos, vamos a definir un SE con una geometría que permita:\n",
    "\n",
    "- Segmentar los elementos verticales \"pequeños\"\n",
    "- Cerrar el hueco pequeño de la cara frontal del cubo.\n",
    "\n",
    "<center> <img src=\"Figures/F04.jpg\"></center>\n",
    "<center> Figura 1. Medidas de la nube de entrada (f) </center>\n",
    "\n",
    "Por lo tanto, dado que los elementos verticales del cubo y el hueco pequeño están orientados en la dirección del eje X, se emplea esta dirección para el SE. Así mismo, para segmentar los elementos verticales y eliminar la zona pequeña, el SE debe tener unas dimensiones mayores que dicha zona (1 m). Para rellenar el hueco, el SE deberá ser mayor que dicho hueco (también 1 m). la densidad del SE se ajusta para tener la misma densidad de la nube (0.1m entre puntos), aunque con práctica, la densidad puede reducirse y ganar tiempo de ejecución. Por último, se centra el SE en [0,0,0], por lo que quedará 5 puntos en sentido positivo de X y 5 puntos en sentido negativo, todos distanciados 0.1 m."
   ]
  },
  {
   "cell_type": "code",
   "execution_count": 7,
   "id": "b49896c2",
   "metadata": {},
   "outputs": [],
   "source": [
    "# Definir SE\n",
    "SE =  np.array([[0, 0, 0],\n",
    "      [-0.1, 0, 0],\n",
    "      [-0.2, 0, 0],\n",
    "      [-0.3, 0, 0],\n",
    "      [-0.4, 0, 0],\n",
    "      [-0.5, 0, 0],\n",
    "      [0.1, 0, 0],\n",
    "      [0.2, 0, 0],\n",
    "      [0.3, 0, 0],\n",
    "      [0.4, 0, 0],\n",
    "      [0.5, 0, 0]])"
   ]
  },
  {
   "cell_type": "markdown",
   "id": "9b0dddf7",
   "metadata": {},
   "source": [
    "# Definir distancia de búsqueda\n",
    "\n",
    "Dado que la densidad del SE y la nube de entrada son iguales, estableceremos el radio de búsqueda acorde: "
   ]
  },
  {
   "cell_type": "code",
   "execution_count": 8,
   "id": "348fcd53",
   "metadata": {},
   "outputs": [],
   "source": [
    "# Definir radio de búsqueda\n",
    "d = 0.1"
   ]
  },
  {
   "cell_type": "markdown",
   "id": "a1c730a5",
   "metadata": {},
   "source": [
    "# Apertura morfológica\n",
    "\n",
    "La apertura morfológica es una erosión seguida de una dilatación, con el mismo SE y radio de búsqueda, donde el resultado de la erosión es la entrada de la dilatación."
   ]
  },
  {
   "cell_type": "code",
   "execution_count": 9,
   "id": "aea26d28",
   "metadata": {},
   "outputs": [],
   "source": [
    "# Apertura morfológica\n",
    "eroded_data = mm_erode(input_data,SE,d)  \n",
    "opened_data = mm_dilate(eroded_data,SE,d)    "
   ]
  },
  {
   "cell_type": "code",
   "execution_count": 10,
   "id": "e0a89b90",
   "metadata": {},
   "outputs": [],
   "source": [
    "# Visualizar nube \n",
    "pcd_open = o3d.geometry.PointCloud()\n",
    "pcd_open.points = o3d.utility.Vector3dVector(opened_data[:,0:3])\n",
    "o3d.visualization.draw_geometries([pcd_open])"
   ]
  },
  {
   "cell_type": "markdown",
   "id": "282f768e",
   "metadata": {},
   "source": [
    "# Exportar nube de puntos abierta\n",
    "\n",
    "Como en los otros tutoriales, también es posible guardar la nube en disco, indicando un directorio y nombre para el txt. "
   ]
  },
  {
   "cell_type": "code",
   "execution_count": 12,
   "id": "f51710c3",
   "metadata": {},
   "outputs": [],
   "source": [
    "# Definicion de la ruta y nombre del archivo\n",
    "ruta = \"Nubes/cube_open.txt\"\n",
    "\n",
    "# Guardado\n",
    "np.savetxt(ruta,opened_data,delimiter=' ') "
   ]
  },
  {
   "cell_type": "markdown",
   "id": "94039d1b",
   "metadata": {},
   "source": [
    "# Cierre morfológico\n",
    "\n",
    "El cierre morfológico es una dilatación seguida de una erosión, con el mismo SE y radio de búsqueda, donde el resultado de la dilatación es la entrada de la erosión."
   ]
  },
  {
   "cell_type": "code",
   "execution_count": 13,
   "id": "7e3f1b2f",
   "metadata": {},
   "outputs": [],
   "source": [
    "# Cierre\n",
    "dilated_data = mm_dilate(input_data,SE,d)\n",
    "closed_data = mm_erode(dilated_data,SE,d)     "
   ]
  },
  {
   "cell_type": "code",
   "execution_count": 14,
   "id": "c1cea975",
   "metadata": {},
   "outputs": [],
   "source": [
    "# Visualizar nube \n",
    "pcd_close = o3d.geometry.PointCloud()\n",
    "pcd_close.points = o3d.utility.Vector3dVector(closed_data[:,0:3])\n",
    "o3d.visualization.draw_geometries([pcd_close])"
   ]
  },
  {
   "cell_type": "markdown",
   "id": "e71db2ad",
   "metadata": {},
   "source": [
    "# Exportar nube de puntos cerrada\n",
    "\n",
    "Como en los otros tutoriales, también es posible guardar la nube en disco, indicando un directorio y nombre para el txt. "
   ]
  },
  {
   "cell_type": "code",
   "execution_count": 16,
   "id": "65c8810f",
   "metadata": {},
   "outputs": [],
   "source": [
    "# Definicion de la ruta y nombre del archivo\n",
    "ruta = \"Nubes/cube_close.txt\"\n",
    "\n",
    "# Guardado\n",
    "np.savetxt(ruta,closed_data,delimiter=' ') "
   ]
  },
  {
   "cell_type": "markdown",
   "id": "3dc99f3c",
   "metadata": {},
   "source": [
    "La combinación de la dilatación, erosión, apertura y cierre morfológicos son una poderosa herramienta para procesar nubes de puntos. Si se combina operaciones con diferentes SE se pueden ir segmentando o modificando las partes de la nube deseadas, en base a las geometrías y orientaciones de objetos conocidos. Invito a los interesados a probar este código con sus propias nubes de puntos y generando sus propios SE."
   ]
  },
  {
   "cell_type": "code",
   "execution_count": null,
   "id": "040456c0",
   "metadata": {},
   "outputs": [],
   "source": []
  }
 ],
 "metadata": {
  "kernelspec": {
   "display_name": "Python 3 (ipykernel)",
   "language": "python",
   "name": "python3"
  },
  "language_info": {
   "codemirror_mode": {
    "name": "ipython",
    "version": 3
   },
   "file_extension": ".py",
   "mimetype": "text/x-python",
   "name": "python",
   "nbconvert_exporter": "python",
   "pygments_lexer": "ipython3",
   "version": "3.7.16"
  }
 },
 "nbformat": 4,
 "nbformat_minor": 5
}
