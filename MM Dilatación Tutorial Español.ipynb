{
 "cells": [
  {
   "cell_type": "markdown",
   "id": "3d0240f4",
   "metadata": {},
   "source": [
    "# DILATACIÓN EN NUBES DE PUNTOS\n",
    "\n",
    "Este es un corto tutorial para explicar paso a paso la dilatacion morfologica aplicada a nubes de puntos acorde el trabajo:\n",
    "\n",
    "- Balado, J., Van Oosterom, P., Díaz-Vilariño, L., & Meijers, M. (2020). Mathematical morphology directly applied to point cloud data. ISPRS Journal of Photogrammetry and Remote Sensing, 168, 208-220.\n"
   ]
  },
  {
   "cell_type": "markdown",
   "id": "635b5af0",
   "metadata": {},
   "source": [
    "# Importación de librerías\n",
    "\n",
    "Las librerías empleadas en la morfología matemática son *numpy* y *o3d*.\n",
    "\n",
    "- https://numpy.org/\n",
    "- http://www.open3d.org/"
   ]
  },
  {
   "cell_type": "code",
   "execution_count": null,
   "id": "f7fe9118",
   "metadata": {},
   "outputs": [],
   "source": [
    "import numpy as np\n",
    "import open3d as o3d"
   ]
  },
  {
   "cell_type": "markdown",
   "id": "e7c3e704",
   "metadata": {},
   "source": [
    "# Lectura de datos\n",
    "\n",
    "Aunque existen numerosos formatos de nubes de puntos, en este tutorial vamos a partir de nubes en formato *txt*, que pueden ser leídas mediante *numpy*, puesto que no tienen ningún tipo de compresión. La nube en *txt* se estructura en 1 punto por fila y un atributo por columna, además se especifica ' ' como delimitador entre columnas. En este caso, la morfología matemática solo trabaja sobre datos XYZ. \n",
    "\n",
    "Como ejemplo de trabajo se proporciona una nube en formato cubo abierto.\n"
   ]
  },
  {
   "cell_type": "code",
   "execution_count": null,
   "id": "e9c0f0a5",
   "metadata": {},
   "outputs": [],
   "source": [
    "# Lectura de datos\n",
    "input_data = np.loadtxt(\"Nubes/cubo3d.txt\", delimiter=' ')"
   ]
  },
  {
   "cell_type": "markdown",
   "id": "07d22ace",
   "metadata": {},
   "source": [
    "# Visualización de la nube de puntos de entrada\n",
    "\n",
    "Para visualizar los datos de entrada en 3D, recurrimos a la librería *o3d*, para lo cual es necesario transformar previamente nuestra nube de puntos a un objeto nube de puntos de la librería:\n",
    "\n",
    "* Nota: los ejes predefinidos de la visualización no se corresponden con los ejes reales de la nube\n",
    "\n",
    "\n",
    "* Nota: Para los no familiarizados con el acceso a los datos de nubes de puntos, tanto en *numpy* como en otras librerias, el acceso se realiza mediante [n filas, n columnas], de tal forma que con \":\" se indica que se seleccionan todas las filas o columnas, y numéricamente mediante \"n:m\" se indica que se accede desde la fila/columna \"n+1\" a la m."
   ]
  },
  {
   "cell_type": "code",
   "execution_count": null,
   "id": "8fae43ad",
   "metadata": {},
   "outputs": [],
   "source": [
    "# Crear objeto nube de puntos\n",
    "pcd_in = o3d.geometry.PointCloud()\n",
    "\n",
    "# Cargar puntos en el objeto, delimitado a XYZ en caso de que la nube tenga más atributos\n",
    "pcd_in.points = o3d.utility.Vector3dVector(input_data[:,0:3])\n",
    "\n",
    "# Visualización\n",
    "o3d.visualization.draw_geometries([pcd_in])"
   ]
  },
  {
   "cell_type": "markdown",
   "id": "08f961d9",
   "metadata": {},
   "source": [
    "# Definir Elemento Estructurante (SE)\n",
    "\n",
    "El elemento estructurante (SE) es una nube de puntos que queremos combinar con la nube de entrada para modificarla, bien mediante operaciones de dilatación o de erosión. Por lo tanto, el SE solo contiene coordenadas XYZ. El primer punto del SE define el centro de translación del SE a lo largo de la nube de puntos de entrada. El resto de los puntos indican la dirección de dilatación o erosión. Definir el SE correctamente es la mayor complicación de la morfología matemática e implica un proceso de prueba y error.\n",
    "\n",
    "<center> <img src=\"Figures/F01.jpg\"></center>\n",
    "<center> Figura 1. Ejemplos de SE </center>\n",
    "\n",
    "En este ejemplo definimos un SE de tres puntos separados 0.1 metros en la dirección Z y centrado en [0 0 0], Figure 1.b."
   ]
  },
  {
   "cell_type": "code",
   "execution_count": null,
   "id": "f895b2de",
   "metadata": {},
   "outputs": [],
   "source": [
    "# Definir SE\n",
    "SE =  np.array([[0, 0, 0],\n",
    "      [0, 0, -0.1],\n",
    "      [0, 0, 0.1]])"
   ]
  },
  {
   "cell_type": "markdown",
   "id": "e1c1d9e1",
   "metadata": {},
   "source": [
    "# Definir distancias de búsqueda\n",
    "\n",
    "A diferencia de una imagen, cuya distribución de pixeles es regular, en las nubes de puntos la distancia entre puntos varía, por lo que es necesario indicar un radio de búsqueda de puntos para establecer proximidades. \n",
    "\n",
    "En el trabajo original, la distancia de búsqueda era calculada automáticamente en el proceso como la media de la distancia entre puntos vecinos. No obstante, la definición de la distancia manualmente da más libertad para operaciones de detección de objetos, segmentación y rellenado de huecos. \n",
    "\n",
    "Como distancia a indicar se propone la distancia entre puntos del SE, o la distancia entre puntos del objeto a dilatar/erosionar.\n"
   ]
  },
  {
   "cell_type": "code",
   "execution_count": null,
   "id": "79cc2ccb",
   "metadata": {},
   "outputs": [],
   "source": [
    "# Definir radio de búsqueda\n",
    "d = 0.1"
   ]
  },
  {
   "cell_type": "markdown",
   "id": "f475d881",
   "metadata": {},
   "source": [
    "# Dilatar\n",
    "\n",
    "El proceso de dilatación es, a grandes rasgos, un proceso de adición de nuevos puntos a la nube que sigue los siguientes pasos:\n",
    "\n",
    "1. Trasladar el SE a cada punto de la nube. La traslación del SE se hace tomando como referencia el primer punto del SE.\n",
    "2. Comprobar si para cada punto del SE existe un punto cercano de la nube de entrada. El cálculo de proximidad se hace en  librería *o3d* para calcular distancias entre nubes y se emplea *d* para identificar aquellos puntos lejanos.\n",
    "3. Los puntos del SE que no coincidan con puntos de la nube de entrada son añadidos a dicha nube (formando la nube dilatada).\n",
    "\n",
    "<center> <img src=\"Figures/F02.jpg\"></center>\n",
    "<center> Figura 2. Proceso de dilatación </center>\n",
    "\n",
    "Se realizaron dos modificaciones respecto al trabajo original para optimizar computacionalmente el algoritmo. \n",
    "- El recorrido de los puntos se realiza sobre el SE y no sobre la nube de entrada, por lo que se realizan menos bucles. En este caso, en vez de trasladar el SE a cada punto de la nube, se traslada un punto del SE a todos los puntos de la nube. \n",
    "- En el algoritmo original se aplicaba una reducción de densidad para eliminar puntos dilatados repetidos al final del bucle. En esta versión, la comprobación de distancias se realiza sobre el conjunto nube de entrada + puntos dilatados actuales, por lo tanto, no los puntos dilatados previamente dentro del bucle influyen en la adición de puntos nuevos.\n"
   ]
  },
  {
   "cell_type": "code",
   "execution_count": null,
   "id": "b2d76c45",
   "metadata": {},
   "outputs": [],
   "source": [
    "dilated_data = input_data[:,0:3]\n",
    "\n",
    "for i in range(1,SE.shape[0]):\n",
    "    \n",
    "    # Trasladar el punto i del SE a toda la nube\n",
    "    traslated_SE = input_data[:,0:3] + SE[i,:]\n",
    "    \n",
    "    # Convertir a SE trasladado a objeto-nube\n",
    "    pcd_tSE = o3d.geometry.PointCloud()\n",
    "    pcd_tSE.points = o3d.utility.Vector3dVector(traslated_SE)\n",
    "    \n",
    "    # Convertir la nube de puntos concadenada a objeto-nube\n",
    "    pcd_dil = o3d.geometry.PointCloud()\n",
    "    pcd_dil.points = o3d.utility.Vector3dVector(dilated_data)\n",
    "    \n",
    "    # Calcular distancias entre nubes \n",
    "    dist_pcd_tSE_2_pcd_dil = pcd_tSE.compute_point_cloud_distance(pcd_dil)\n",
    "    dist_pcd_tSE_2_pcd_dil = np.asarray(dist_pcd_tSE_2_pcd_dil) \n",
    "    \n",
    "    # Comprobación de existencia de puntos cercanos\n",
    "    idx_add = dist_pcd_tSE_2_pcd_dil > d/2\n",
    "    \n",
    "    # Adición de puntos nuevos a la nube concadenada \n",
    "    dilated_data = np.vstack((dilated_data,traslated_SE[idx_add,0:3]))\n",
    "        "
   ]
  },
  {
   "cell_type": "markdown",
   "id": "17f5402a",
   "metadata": {},
   "source": [
    "# Visualización de la nube de puntos dilatada\n",
    "\n",
    "Para visualizar la nube dilatada en 3D, recurrimos a la librería *o3d*, para lo cual es necesario transformar nuevamente nuestros puntos de salida a un objeto nube de puntos de la librería *o3d*:\n",
    "\n",
    "* Nota: los ejes predefinidos de la visualización no se corresponden con los ejes reales de la nube\n",
    "\n",
    "\n"
   ]
  },
  {
   "cell_type": "code",
   "execution_count": null,
   "id": "dab72b01",
   "metadata": {},
   "outputs": [],
   "source": [
    "# Crear objeto nube de puntos\n",
    "pcd_out = o3d.geometry.PointCloud()\n",
    "\n",
    "# Cargar puntos en el objeto\n",
    "pcd_out.points = o3d.utility.Vector3dVector(dilated_data)\n",
    "\n",
    "# Visualización\n",
    "o3d.visualization.draw_geometries([pcd_out])\n"
   ]
  },
  {
   "cell_type": "markdown",
   "id": "7302bc8b",
   "metadata": {},
   "source": [
    "Como se puede observar, se generaron nuevos puntos acorde a la dirección y forma del SE en la nube de entrada"
   ]
  },
  {
   "cell_type": "markdown",
   "id": "d593391d",
   "metadata": {},
   "source": [
    "# Exportar nube de puntos dilatada\n",
    "\n",
    "Para guardar la nube en disco, se recurre a la librería *numpy* y a un formato de la nube en *txt*. Para el guardado se indica una dirección y nombre del archivo a generar."
   ]
  },
  {
   "cell_type": "code",
   "execution_count": null,
   "id": "0b0d06e6",
   "metadata": {},
   "outputs": [],
   "source": [
    "# Definicion de la ruta y nombre del archivo\n",
    "ruta = \"Nubes/pc_dilated.txt\"\n",
    "\n",
    "# Guardado\n",
    "np.savetxt(ruta,dilated_data,delimiter=' ') "
   ]
  },
  {
   "cell_type": "markdown",
   "id": "939795bf",
   "metadata": {},
   "source": [
    "Con esto concluye el tutorial de dilatación morfológica. La aplicación de la dilatación morfológica combinada con la erosión morfológica en operaciones de apertura morfológica (para segmentación de objetos) y cierre morfológico (para el rellenado de huecos) se presentará en el siguiente tutorial."
   ]
  },
  {
   "cell_type": "code",
   "execution_count": null,
   "id": "ad47aaf1",
   "metadata": {},
   "outputs": [],
   "source": []
  }
 ],
 "metadata": {
  "kernelspec": {
   "display_name": "Python 3 (ipykernel)",
   "language": "python",
   "name": "python3"
  },
  "language_info": {
   "codemirror_mode": {
    "name": "ipython",
    "version": 3
   },
   "file_extension": ".py",
   "mimetype": "text/x-python",
   "name": "python",
   "nbconvert_exporter": "python",
   "pygments_lexer": "ipython3",
   "version": "3.7.16"
  }
 },
 "nbformat": 4,
 "nbformat_minor": 5
}
