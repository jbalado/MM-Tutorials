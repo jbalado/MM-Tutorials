{
 "cells": [
  {
   "cell_type": "markdown",
   "id": "009ddaf9",
   "metadata": {},
   "source": [
    "# EROSION IN POINT CLOUDS\n",
    "\n",
    "This is a short tutorial to explain step by step morphological erosion applied to point clouds according to the work:\n",
    "\n",
    "- Balado, J., Van Oosterom, P., Díaz-Vilariño, L., & Meijers, M. (2020). Mathematical morphology directly applied to point cloud data. ISPRS Journal of Photogrammetry and Remote Sensing, 168, 208-220."
   ]
  },
  {
   "cell_type": "markdown",
   "id": "802fd3f1",
   "metadata": {},
   "source": [
    "# Import of libraries\n",
    "\n",
    "The libraries used in the mathematical morphology are *numpy* and *o3d*.\n",
    "\n",
    "- https://numpy.org/\n",
    "- http://www.open3d.org/"
   ]
  },
  {
   "cell_type": "code",
   "execution_count": 1,
   "id": "f4222fd4",
   "metadata": {},
   "outputs": [
    {
     "name": "stdout",
     "output_type": "stream",
     "text": [
      "Jupyter environment detected. Enabling Open3D WebVisualizer.\n",
      "[Open3D INFO] WebRTC GUI backend enabled.\n",
      "[Open3D INFO] WebRTCWindowSystem: HTTP handshake server disabled.\n"
     ]
    }
   ],
   "source": [
    "import numpy as np\n",
    "import open3d as o3d"
   ]
  },
  {
   "cell_type": "markdown",
   "id": "91e22127",
   "metadata": {},
   "source": [
    "# Reading data\n",
    "\n",
    "Although there are many point cloud formats, in this tutorial we will start from *txt* clouds, which can be read using *numpy*, as they do not have any kind of compression. The *txt* cloud is structured in 1 point per row and 1 attribute per column, and ' ' is specified as delimiter between columns. In this case, the mathematical morphology only works on XYZ data. \n",
    "\n",
    "As a working example, a cloud in open cube format is provided.\n"
   ]
  },
  {
   "cell_type": "code",
   "execution_count": 2,
   "id": "73bebc3c",
   "metadata": {},
   "outputs": [],
   "source": [
    "# Reading data\n",
    "input_data = np.loadtxt(\"Nubes/cubo3d.txt\", delimiter=' ')"
   ]
  },
  {
   "cell_type": "markdown",
   "id": "bd38e65a",
   "metadata": {},
   "source": [
    "# Visualisation of input point clouds\n",
    "\n",
    "To visualise the input data in 3D, we use the *o3d* library, for which it is necessary to first transform our point cloud to a point cloud object of the library:\n",
    "\n",
    "* Note: the predefined axes of the visualisation do not correspond to the real axes of the cloud.\n",
    "\n",
    "\n",
    "* Note: For those unfamiliar with accessing point cloud data, both in *numpy* and in other libraries, access is via [n rows, n columns], in such a way that \":\" indicates that all the rows or columns are selected, and numerically \"n:m\" indicates that access is from row/column \"n+1\" to m."
   ]
  },
  {
   "cell_type": "code",
   "execution_count": 3,
   "id": "2fe0ff4c",
   "metadata": {},
   "outputs": [],
   "source": [
    "# Create point cloud object\n",
    "pcd_in = o3d.geometry.PointCloud()\n",
    "\n",
    "# Load points into the object, delimited to XYZ in case the cloud has more attributes\n",
    "pcd_in.points = o3d.utility.Vector3dVector(input_data[:,0:3])\n",
    "\n",
    "# Visualization\n",
    "o3d.visualization.draw_geometries([pcd_in])"
   ]
  },
  {
   "cell_type": "markdown",
   "id": "810b8e1e",
   "metadata": {},
   "source": [
    "# Define Structuring Element (SE)\n",
    "\n",
    "The structuring element (SE) is a point cloud that we want to combine with the input cloud in order to modify it, either by dilation or erosion operations. Therefore, the SE contains only XYZ coordinates. The first point of the SE defines the centre of translation of the SE along the input point cloud. The rest of the points indicate the direction of dilation or erosion. Defining the SE correctly is the major complication of mathematical morphology and involves a process of trial and error.\n",
    "\n",
    "<center> <img src=\"Figures/F01.jpg\"></center>\n",
    "<center> Figura 1. SE Examples</center>\n",
    "\n",
    "In this example we define an SE of three points 0.1 metres apart in the Z direction and centred at [0 0 0], Figure 1.b."
   ]
  },
  {
   "cell_type": "code",
   "execution_count": 4,
   "id": "e021dfb3",
   "metadata": {},
   "outputs": [],
   "source": [
    "# SE definition\n",
    "SE =  np.array([[0, 0, 0],\n",
    "      [0, 0, -0.1],\n",
    "      [0, 0, 0.1]])"
   ]
  },
  {
   "cell_type": "markdown",
   "id": "ea735440",
   "metadata": {},
   "source": [
    "# Define search distances\n",
    "\n",
    "Unlike an image, whose pixel distribution is regular, in point clouds the distance between points varies, so it is necessary to indicate a search radius of points to establish proximities. \n",
    "\n",
    "In the original work, the search distance was automatically calculated in the process as the average of the distance between neighbouring points. However, defining the distance manually gives more freedom for object detection, segmentation and gap-filling operations. \n",
    "\n",
    "The distance between points of the SE, or the distance between points of the object to be dilated/erosionised, is proposed as the distance to be indicated."
   ]
  },
  {
   "cell_type": "code",
   "execution_count": null,
   "id": "269866d1",
   "metadata": {},
   "outputs": [],
   "source": [
    "# Define search radius\n",
    "d = 0.1"
   ]
  },
  {
   "cell_type": "markdown",
   "id": "82ab8758",
   "metadata": {},
   "source": [
    "# Erosion\n",
    "\n",
    "The erosion process is, broadly speaking, a process of removing points from the input cloud that do not coincide with the SE. It is based on the following steps: \n",
    "\n",
    "1. Translating the SE to each point in the cloud. The translation of the SE is done by taking the first point of the SE as a reference.\n",
    "2. Check if for each point of the SE there is a nearby point of the input cloud. The proximity calculation is done in *o3d* library to calculate distances between clouds and *d* is used to identify those distant points.\n",
    "3. To keep a point in the input cloud, all points in the translated SE must be close to other points. The result of the proximity check is stored in an index list and updated for each cloud/SE point.\n",
    "\n",
    "<center> <img src=\"Figures/F03.jpg\"></center>\n",
    "<center> Figura 2. Erosion process </center>\n",
    "\n",
    "Two modifications were made to the original work to optimise the algorithm computationally. \n",
    "\n",
    "- The points are moved (iterated) over the SE and not over the input cloud, so fewer loops are performed. In this case, instead of moving the SE to each point in the cloud, one point of the SE is moved to all points in the input cloud. \n",
    "- In the original algorithm, the point being evaluated in each iteration is removed if it meets the erosion criteria. In this version, since all points in the input cloud are evaluated simultaneously, an index list is generated and updated with proximity information for each SE point at each iteration."
   ]
  },
  {
   "cell_type": "code",
   "execution_count": null,
   "id": "17939bb4",
   "metadata": {},
   "outputs": [],
   "source": [
    "# Convert the input points to point cloud-object (if not done for visualisation)\n",
    "pcd_in = o3d.geometry.PointCloud()\n",
    "pcd_in.points = o3d.utility.Vector3dVector(input_data[:,0:3])\n",
    "\n",
    "# Generate indices of points to keep\n",
    "idx_remain = np.ones(input_data.shape[0], dtype=bool)\n",
    "\n",
    "for i in range(1,SE.shape[0]):\n",
    "    \n",
    "    # Move point i from the SE to the whole cloud\n",
    "    translated_SE = input_data[:,0:3] + SE[i,:]\n",
    "    \n",
    "    # Convert to SE moved to point cloud-object\n",
    "    pcd_tSE = o3d.geometry.PointCloud()\n",
    "    pcd_tSE.points = o3d.utility.Vector3dVector(translated_SE)\n",
    "    \n",
    "    # Calculate distances between clouds\n",
    "    dist_pcd_tSE_2_pcd_in = pcd_tSE.compute_point_cloud_distance(pcd_in)\n",
    "    dist_pcd_tSE_2_pcd_in = np.asarray(dist_pcd_tSE_2_pcd_in)    \n",
    "    \n",
    "    # Filtering by distances of points in the input cloud that match points in the SE\n",
    "    idx_aux = dist_pcd_tSE_2_pcd_in < d\n",
    "    \n",
    "    # Combination with the index list of input data\n",
    "    idx_remain = idx_remain * idx_aux\n",
    "\n",
    "# Selection of the output points according to the indexes of the points to be preserved.\n",
    "output_data = input_data[idx_remain,0:3]"
   ]
  },
  {
   "cell_type": "markdown",
   "id": "90bbb506",
   "metadata": {},
   "source": [
    "# Visualisation of the eroded point cloud\n",
    "\n",
    "To visualise the eroded cloud in 3D, we resort to the *o3d* library, for which it is necessary to transform our output points back to a point cloud object of the *o3d* library:\n",
    "\n",
    "* Note: the predefined axes of the visualisation do not correspond to the real axes of the cloud.\n"
   ]
  },
  {
   "cell_type": "code",
   "execution_count": null,
   "id": "1484caa8",
   "metadata": {},
   "outputs": [],
   "source": [
    "# Create point cloud object\n",
    "pcd_out = o3d.geometry.PointCloud()\n",
    "\n",
    "# Load points into the object\n",
    "pcd_out.points = o3d.utility.Vector3dVector(output_data)\n",
    "\n",
    "# Visualization\n",
    "o3d.visualization.draw_geometries([pcd_out])"
   ]
  },
  {
   "cell_type": "markdown",
   "id": "133c5368",
   "metadata": {},
   "source": [
    "# Export eroded point cloud\n",
    "\n",
    "To save the cloud to disk, the *numpy* library and a *txt* cloud format are used. For saving, an address and name of the file to be generated are specified."
   ]
  },
  {
   "cell_type": "code",
   "execution_count": null,
   "id": "d58ad4ca",
   "metadata": {},
   "outputs": [],
   "source": [
    "# Definition of the path and file name\n",
    "ruta = \"Nubes/pc_eroded.txt\"\n",
    "\n",
    "# Save\n",
    "np.savetxt(ruta,output_data,delimiter=' ') "
   ]
  },
  {
   "cell_type": "markdown",
   "id": "cf185162",
   "metadata": {},
   "source": [
    "This concludes the morphological erosion tutorial. The application of morphological erosion combined with morphological dilation in morphological opening (for object segmentation) and morphological closing (for gap filling) operations will be presented in the next tutorial."
   ]
  },
  {
   "cell_type": "code",
   "execution_count": null,
   "id": "373bc17b",
   "metadata": {},
   "outputs": [],
   "source": []
  }
 ],
 "metadata": {
  "kernelspec": {
   "display_name": "Python 3 (ipykernel)",
   "language": "python",
   "name": "python3"
  },
  "language_info": {
   "codemirror_mode": {
    "name": "ipython",
    "version": 3
   },
   "file_extension": ".py",
   "mimetype": "text/x-python",
   "name": "python",
   "nbconvert_exporter": "python",
   "pygments_lexer": "ipython3",
   "version": "3.7.16"
  }
 },
 "nbformat": 4,
 "nbformat_minor": 5
}
