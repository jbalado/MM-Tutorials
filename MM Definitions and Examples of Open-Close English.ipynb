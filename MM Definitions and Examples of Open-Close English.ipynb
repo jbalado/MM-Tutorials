{
 "cells": [
  {
   "cell_type": "markdown",
   "id": "0c7c172a",
   "metadata": {},
   "source": [
    "# EXAMPLES OF MORPHOLOGICAL OPENING AND CLOSING\n",
    "\n",
    "This is a short tutorial to explain step by step the morphological opening and closing applied to point clouds according to the work:\n",
    "\n",
    "- Balado, J., Van Oosterom, P., Díaz-Vilariño, L., & Meijers, M. (2020). Mathematical morphology directly applied to point cloud data. ISPRS Journal of Photogrammetry and Remote Sensing, 168, 208-220.\n",
    "\n",
    "It is previously recommended to review the morphological dilation and erosion tutorials.\n"
   ]
  },
  {
   "cell_type": "markdown",
   "id": "ff89f5fe",
   "metadata": {},
   "source": [
    "# Import of libraries\n",
    "\n",
    "The libraries used in the mathematical morphology are *numpy* and *o3d*.\n",
    "\n",
    "- https://numpy.org/\n",
    "- http://www.open3d.org/"
   ]
  },
  {
   "cell_type": "code",
   "execution_count": 1,
   "id": "4824cb2d",
   "metadata": {},
   "outputs": [
    {
     "name": "stdout",
     "output_type": "stream",
     "text": [
      "Jupyter environment detected. Enabling Open3D WebVisualizer.\n",
      "[Open3D INFO] WebRTC GUI backend enabled.\n",
      "[Open3D INFO] WebRTCWindowSystem: HTTP handshake server disabled.\n"
     ]
    }
   ],
   "source": [
    "import numpy as np\n",
    "import open3d as o3d"
   ]
  },
  {
   "cell_type": "markdown",
   "id": "e75904fb",
   "metadata": {},
   "source": [
    "# Definition of dilation and erosion operations\n",
    "\n",
    "As the morphological operations of opening and closing are combinations of dilation and erosion, both functions are defined below without intermediate outputs, whose input parameters are the point cloud to dilate/erosion, the SE point cloud, and the search distance.\n"
   ]
  },
  {
   "cell_type": "code",
   "execution_count": 2,
   "id": "6cdafb79",
   "metadata": {},
   "outputs": [],
   "source": [
    "def mm_dilate(input_data,SE,d): \n",
    "\n",
    "    dilated_data = input_data[:,0:3]\n",
    "\n",
    "    for i in range(1,SE.shape[0]):\n",
    "        \n",
    "        # Move point i from the SE to the whole input cloud\n",
    "        translated_SE = input_data[:,0:3] + SE[i,:]\n",
    "\n",
    "        # Convert to SE traslated to cloud-object\n",
    "        pcd_tSE = o3d.geometry.PointCloud()\n",
    "        pcd_tSE.points = o3d.utility.Vector3dVector(translated_SE)\n",
    "        \n",
    "        # Convert concatenated point cloud to cloud-object\n",
    "        pcd_dil = o3d.geometry.PointCloud()\n",
    "        pcd_dil.points = o3d.utility.Vector3dVector(dilated_data)\n",
    "\n",
    "        # Calculate distances between clouds\n",
    "        dist_pcd_tSE_2_pcd_dil = pcd_tSE.compute_point_cloud_distance(pcd_dil)\n",
    "        dist_pcd_tSE_2_pcd_dil = np.asarray(dist_pcd_tSE_2_pcd_dil) \n",
    "\n",
    "        # Checking the existence of nearby points\n",
    "        idx_add = dist_pcd_tSE_2_pcd_dil > d/2\n",
    "        \n",
    "        # Adding new points to the dilated cloud\n",
    "        dilated_data = np.vstack((dilated_data,translated_SE[idx_add,0:3]))\n",
    "        \n",
    "    return dilated_data"
   ]
  },
  {
   "cell_type": "code",
   "execution_count": 3,
   "id": "673575f2",
   "metadata": {},
   "outputs": [],
   "source": [
    "def mm_erode(input_data,SE,d):\n",
    "    \n",
    "    # Convert the input points to point cloud-object\n",
    "    pcd_in = o3d.geometry.PointCloud()\n",
    "    pcd_in.points = o3d.utility.Vector3dVector(input_data[:,0:3])\n",
    "    \n",
    "    # Generate indices of points to keep\n",
    "    idx_remain = np.ones(input_data.shape[0], dtype=bool)\n",
    "\n",
    "    for i in range(1,SE.shape[0]):\n",
    "        \n",
    "        # Move point i from the SE to the whole cloud\n",
    "        translated_SE = input_data[:,0:3] + SE[i,:]\n",
    "\n",
    "        # Convert to SE moved to point cloud-object\n",
    "        pcd_tSE = o3d.geometry.PointCloud()\n",
    "        pcd_tSE.points = o3d.utility.Vector3dVector(translated_SE)\n",
    "\n",
    "        # Calculate distances between clouds\n",
    "        dist_pcd_tSE_2_pcd_in = pcd_tSE.compute_point_cloud_distance(pcd_in)\n",
    "        dist_pcd_tSE_2_pcd_in = np.asarray(dist_pcd_tSE_2_pcd_in)    \n",
    "\n",
    "        # Filtering by distances of points in the input cloud that match points in the SE\n",
    "        idx_aux = dist_pcd_tSE_2_pcd_in < d\n",
    "        \n",
    "        # Combination with the index list of input data\n",
    "        idx_remain = idx_remain * idx_aux\n",
    "\n",
    "    # Selection of the output points according to the indexes of the points to be preserved.\n",
    "    output_data = input_data[idx_remain,0:3]    \n",
    "    \n",
    "    return output_data"
   ]
  },
  {
   "cell_type": "markdown",
   "id": "53aed2ea",
   "metadata": {},
   "source": [
    "# Reading data\n",
    "\n",
    "As in the previous tutorials, the reading of the input point cloud is done with *numpy*. To visualise the input data in 3D, we resort to the *o3d* library, for which it is necessary to previously transform our point cloud to a point cloud object of the library.\n",
    "\n",
    "* Note: the predefined axes of the visualisation do not correspond to the real axes of the cloud.\n"
   ]
  },
  {
   "cell_type": "code",
   "execution_count": 4,
   "id": "f7c56af6",
   "metadata": {},
   "outputs": [],
   "source": [
    "# Reading data\n",
    "input_data = np.loadtxt(\"Nubes/cubo3d.txt\", delimiter=' ')"
   ]
  },
  {
   "cell_type": "code",
   "execution_count": 5,
   "id": "70b34f68",
   "metadata": {},
   "outputs": [],
   "source": [
    "# Creat point cloud object\n",
    "pcd_in = o3d.geometry.PointCloud()\n",
    "\n",
    "# Load points into the object, delimited to XYZ in case the cloud has more attributes\n",
    "pcd_in.points = o3d.utility.Vector3dVector(input_data[:,0:3])\n",
    "\n",
    "# Visualization\n",
    "o3d.visualization.draw_geometries([pcd_in])"
   ]
  },
  {
   "cell_type": "markdown",
   "id": "c77c19d0",
   "metadata": {},
   "source": [
    "# Define Structuring Element (SE)\n",
    "\n",
    "In this case we are going to define a more complex structuring element. Although opening and closing are independent operations, we are going to use the same SE for both. Since the morphological opening operations are used to segment and the morphological closing is used to fill gaps, we are going to define an SE with a geometry to:\n",
    "\n",
    "- Segment the \"small\" vertical elements of the cube.\n",
    "- Close the small gap on the front face of the cube.\n",
    "\n",
    "<center> <img src=\"Figures/F04.jpg\"></center>\n",
    "<center> Figura 1. Medidas de la nube de entrada (f) </center>\n",
    "\n",
    "Therefore, since the vertical elements of the cube and the small gap are oriented in the direction of the X-axis, this direction is used for the SE. Also, to segment the vertical elements and eliminate the small area, the SE must be larger than the small area (1 m). To fill the gap, the SE must be larger than the gap (also 1m). The density of the SE is adjusted to have the same density as the input cloud (0.1 m between points), although with practice, the density can be reduced and save execution time. Finally, the SE is centred at [0,0,0], leaving 5 points in the positive direction of X and 5 points in the negative direction, all spaced 0.1 m apart."
   ]
  },
  {
   "cell_type": "code",
   "execution_count": 6,
   "id": "b49896c2",
   "metadata": {},
   "outputs": [],
   "source": [
    "# SE definition\n",
    "SE =  np.array([[0, 0, 0],\n",
    "      [-0.1, 0, 0],\n",
    "      [-0.2, 0, 0],\n",
    "      [-0.3, 0, 0],\n",
    "      [-0.4, 0, 0],\n",
    "      [-0.5, 0, 0],\n",
    "      [0.1, 0, 0],\n",
    "      [0.2, 0, 0],\n",
    "      [0.3, 0, 0],\n",
    "      [0.4, 0, 0],\n",
    "      [0.5, 0, 0]])"
   ]
  },
  {
   "cell_type": "markdown",
   "id": "9b4890ac",
   "metadata": {},
   "source": [
    "# Define search distance\n",
    "\n",
    "Since the point density of the SE and the input cloud are equal, we will set the search radius accordingly: "
   ]
  },
  {
   "cell_type": "code",
   "execution_count": 7,
   "id": "348fcd53",
   "metadata": {},
   "outputs": [],
   "source": [
    "# Define search radius\n",
    "d = 0.1"
   ]
  },
  {
   "cell_type": "markdown",
   "id": "7fe798bb",
   "metadata": {},
   "source": [
    "# Morphological opening\n",
    "\n",
    "The morphological opening is an erosion followed by a dilation, with the same SE and radius of search, where the ouput of the erosion is the input of the dilation."
   ]
  },
  {
   "cell_type": "code",
   "execution_count": 8,
   "id": "aea26d28",
   "metadata": {},
   "outputs": [],
   "source": [
    "# Morphological opening\n",
    "eroded_data = mm_erode(input_data,SE,d)  \n",
    "opened_data = mm_dilate(eroded_data,SE,d)    "
   ]
  },
  {
   "cell_type": "code",
   "execution_count": 9,
   "id": "040ee820",
   "metadata": {},
   "outputs": [],
   "source": [
    "# Visualization\n",
    "pcd_open = o3d.geometry.PointCloud()\n",
    "pcd_open.points = o3d.utility.Vector3dVector(opened_data[:,0:3])\n",
    "o3d.visualization.draw_geometries([pcd_open])"
   ]
  },
  {
   "cell_type": "markdown",
   "id": "a126a282",
   "metadata": {},
   "source": [
    "# Export open point cloud\n",
    "\n",
    "As in the other tutorials, it is also possible to save the point cloud to disk, specifying a directory and name for the txt. "
   ]
  },
  {
   "cell_type": "code",
   "execution_count": 10,
   "id": "f51710c3",
   "metadata": {},
   "outputs": [],
   "source": [
    "# Definition of the path and file name\n",
    "ruta = \"Nubes/cubo_open.txt\"\n",
    "\n",
    "# Save\n",
    "np.savetxt(ruta,opened_data,delimiter=' ') "
   ]
  },
  {
   "cell_type": "markdown",
   "id": "1c80a1b5",
   "metadata": {},
   "source": [
    "# Morphological closing\n",
    "\n",
    "Morphological closing is a dilation followed by erosion, with the same SE and search radius, where the output of the dilation is the input of the erosion."
   ]
  },
  {
   "cell_type": "code",
   "execution_count": 11,
   "id": "7e3f1b2f",
   "metadata": {},
   "outputs": [],
   "source": [
    "# Morphological closing\n",
    "dilated_data = mm_dilate(input_data,SE,d)\n",
    "closed_data = mm_erode(dilated_data,SE,d)     "
   ]
  },
  {
   "cell_type": "code",
   "execution_count": 12,
   "id": "d80dc33c",
   "metadata": {},
   "outputs": [],
   "source": [
    "# Visualization \n",
    "pcd_close = o3d.geometry.PointCloud()\n",
    "pcd_close.points = o3d.utility.Vector3dVector(closed_data[:,0:3])\n",
    "o3d.visualization.draw_geometries([pcd_close])"
   ]
  },
  {
   "cell_type": "markdown",
   "id": "02b2596a",
   "metadata": {},
   "source": [
    "# Export closed point cloud\n",
    "\n",
    "As in the other tutorials, it is also possible to save the point cloud to disk, specifying a directory and name for the txt."
   ]
  },
  {
   "cell_type": "code",
   "execution_count": 16,
   "id": "65c8810f",
   "metadata": {},
   "outputs": [],
   "source": [
    "# Definition of the path and file name\n",
    "ruta = \"Nubes/cubo_close.txt\"\n",
    "\n",
    "# Save\n",
    "np.savetxt(ruta,eroded_data,delimiter=' ') "
   ]
  },
  {
   "cell_type": "markdown",
   "id": "d97b51b7",
   "metadata": {},
   "source": [
    "The combination of morphological dilation, erosion, opening and closing is a powerful tool for processing point clouds. By combining operations with different SE, the desired parts of the point cloud can be segmented or modified. Furthermore, by knowing the geometrical shapes and orientation, many objects can be automatically detected. I invite interested parties to test this code with their own point clouds."
   ]
  },
  {
   "cell_type": "code",
   "execution_count": null,
   "id": "adb5e8f6",
   "metadata": {},
   "outputs": [],
   "source": []
  }
 ],
 "metadata": {
  "kernelspec": {
   "display_name": "Python 3 (ipykernel)",
   "language": "python",
   "name": "python3"
  },
  "language_info": {
   "codemirror_mode": {
    "name": "ipython",
    "version": 3
   },
   "file_extension": ".py",
   "mimetype": "text/x-python",
   "name": "python",
   "nbconvert_exporter": "python",
   "pygments_lexer": "ipython3",
   "version": "3.7.16"
  }
 },
 "nbformat": 4,
 "nbformat_minor": 5
}
