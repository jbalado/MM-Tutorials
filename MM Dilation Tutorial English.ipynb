{
 "cells": [
  {
   "cell_type": "markdown",
   "id": "3d0240f4",
   "metadata": {},
   "source": [
    "# DILATION IN POINT CLOUDS\n",
    "\n",
    "This is a short tutorial to explain step by step morphological dilation applied to point clouds according to the work:\n",
    "\n",
    "- Balado, J., Van Oosterom, P., Díaz-Vilariño, L., & Meijers, M. (2020). Mathematical morphology directly applied to point cloud data. ISPRS Journal of Photogrammetry and Remote Sensing, 168, 208-220.\n"
   ]
  },
  {
   "cell_type": "markdown",
   "id": "635b5af0",
   "metadata": {},
   "source": [
    "# Import of libraries\n",
    "\n",
    "The libraries used in the mathematical morphology are *numpy* and *o3d*.\n",
    "\n",
    "- https://numpy.org/\n",
    "- http://www.open3d.org/"
   ]
  },
  {
   "cell_type": "code",
   "execution_count": null,
   "id": "f7fe9118",
   "metadata": {},
   "outputs": [],
   "source": [
    "import numpy as np\n",
    "import open3d as o3d"
   ]
  },
  {
   "cell_type": "markdown",
   "id": "e7c3e704",
   "metadata": {},
   "source": [
    "# Reading data\n",
    "\n",
    "Although there are many point cloud formats, in this tutorial we will start from *txt* clouds, which can be read using *numpy*, as they do not have any kind of compression. The *txt* cloud is structured in 1 point per row and 1 attribute per column, and ' ' is specified as delimiter between columns. In this case, the mathematical morphology only works on XYZ data. \n",
    "\n",
    "As a working example, a cloud in open cube format is provided.\n"
   ]
  },
  {
   "cell_type": "code",
   "execution_count": null,
   "id": "e9c0f0a5",
   "metadata": {},
   "outputs": [],
   "source": [
    "# Read point cloud\n",
    "input_data = np.loadtxt(\"Nubes/cubo3d.txt\", delimiter=' ')"
   ]
  },
  {
   "cell_type": "markdown",
   "id": "07d22ace",
   "metadata": {},
   "source": [
    "# Visualisation of the input point cloud\n",
    "\n",
    "To visualise the input data in 3D, we use the *o3d* library, for which it is necessary to first transform our point cloud to a point cloud object of the library:\n",
    "\n",
    "* Note: the predefined axes of the visualisation do not correspond to the real axes of the point cloud.\n",
    "\n",
    "* Note: For those unfamiliar with accessing point cloud data, both in *numpy* and in other libraries, access is via [n rows, n columns], in such a way that \":\" indicates that all the rows or columns are selected, and numerically \"n:m\" indicates that access is from row/column \"n+1\" to m."
   ]
  },
  {
   "cell_type": "code",
   "execution_count": null,
   "id": "8fae43ad",
   "metadata": {},
   "outputs": [],
   "source": [
    "# Creat point cloud object\n",
    "pcd_in = o3d.geometry.PointCloud()\n",
    "\n",
    "# Load points into the object, delimited to XYZ in case the cloud has more attributes\n",
    "pcd_in.points = o3d.utility.Vector3dVector(input_data[:,0:3])\n",
    "\n",
    "# Visualization\n",
    "o3d.visualization.draw_geometries([pcd_in])"
   ]
  },
  {
   "cell_type": "markdown",
   "id": "08f961d9",
   "metadata": {},
   "source": [
    "# Define Structuring Element (SE)\n",
    "\n",
    "The structuring element (SE) is a point cloud that we want to combine with the input cloud in order to modify it, either by dilation or erosion operations. Therefore, the SE contains only XYZ coordinates. The first point of the SE defines the centre of translation of the SE along the input point cloud. The rest of the points indicate the direction of dilation or erosion. Defining the SE correctly is the major complication of mathematical morphology and involves a process of trial and error.\n",
    "\n",
    "<center> <img src=\"Figures/F01.jpg\"></center>\n",
    "<center> Figura 1. SE Examples </center>\n",
    "\n",
    "In this example we define an SE of three points 0.1 metres apart in the Z direction and centred at [0 0 0], Figure 1.b."
   ]
  },
  {
   "cell_type": "code",
   "execution_count": null,
   "id": "f895b2de",
   "metadata": {},
   "outputs": [],
   "source": [
    "# SE definition\n",
    "SE =  np.array([[0, 0, 0],\n",
    "      [0, 0, -0.1],\n",
    "      [0, 0, 0.1]])"
   ]
  },
  {
   "cell_type": "markdown",
   "id": "e1c1d9e1",
   "metadata": {},
   "source": [
    "# Define search distances\n",
    "\n",
    "Unlike an image, whose pixel distribution is regular, in point clouds the distance between points varies, so it is necessary to indicate a search radius of points to establish proximities. \n",
    "\n",
    "In the original work, the search distance was automatically calculated in the process as the average of the distance between neighbouring points. However, defining the distance manually gives more freedom for object detection, segmentation and gap-filling operations. \n",
    "\n",
    "The distance between points of the SE, or the distance between points of the object to be dilated/erosionised, is proposed as the distance to be indicated.\n"
   ]
  },
  {
   "cell_type": "code",
   "execution_count": null,
   "id": "79cc2ccb",
   "metadata": {},
   "outputs": [],
   "source": [
    "# Define search radius\n",
    "d = 0.1"
   ]
  },
  {
   "cell_type": "markdown",
   "id": "f475d881",
   "metadata": {},
   "source": [
    "# Dilate\n",
    "\n",
    "The dilation process is, broadly speaking, a process of adding new points to the cloud by following the steps below:\n",
    "\n",
    "1. translate the SE to each point in the cloud. The translation of the SE is done by taking the first point of the SE as a reference.\n",
    "2. Check if for each point of the SE there is a nearby point of the input cloud. The proximity calculation is done in *o3d* library to calculate distances between clouds and *d* is used to identify those distant points.\n",
    "3. SE points that do not coincide with points in the input cloud are added to the input cloud (forming the dilated point cloud).\n",
    "\n",
    "<center> <img src=\"Figures/F02.jpg\"></center>\n",
    "<center> Figura 2. Dilation process </center>\n",
    "\n",
    "Two modifications were made to the original work to optimise the algorithm computationally. \n",
    "- The points are moved (iterations) over the SE and not over the input cloud, so fewer loops are performed. In this case, instead of moving the SE to each point in the input cloud, one point of the SE is moved to all points in the input cloud. \n",
    "- In the original algorithm, a density reduction was applied to eliminate repeated dilated points at the end of the loop. In this version, the distance check is performed on the set of input cloud + current dilated points, therefore, no previously dilated points within the loop influence the addition of new points.\n"
   ]
  },
  {
   "cell_type": "code",
   "execution_count": null,
   "id": "b2d76c45",
   "metadata": {},
   "outputs": [],
   "source": [
    "dilated_data = input_data[:,0:3]\n",
    "\n",
    "for i in range(1,SE.shape[0]):\n",
    "    \n",
    "    # Move point i from the SE to the whole input cloud\n",
    "    traslated_SE = input_data[:,0:3] + SE[i,:]\n",
    "    \n",
    "    # Convert to SE traslated to cloud-object\n",
    "    pcd_tSE = o3d.geometry.PointCloud()\n",
    "    pcd_tSE.points = o3d.utility.Vector3dVector(traslated_SE)\n",
    "    \n",
    "    # Convert concatenated point cloud to cloud-object\n",
    "    pcd_dil = o3d.geometry.PointCloud()\n",
    "    pcd_dil.points = o3d.utility.Vector3dVector(dilated_data)\n",
    "    \n",
    "    # Calculate distances between clouds \n",
    "    dist_pcd_tSE_2_pcd_dil = pcd_tSE.compute_point_cloud_distance(pcd_dil)\n",
    "    dist_pcd_tSE_2_pcd_dil = np.asarray(dist_pcd_tSE_2_pcd_dil) \n",
    "    \n",
    "    # Checking the existence of nearby points\n",
    "    idx_add = dist_pcd_tSE_2_pcd_dil > d/2\n",
    "    \n",
    "    # Adding new points to the dilated cloud\n",
    "    dilated_data = np.vstack((dilated_data,traslated_SE[idx_add,0:3]))\n",
    "        "
   ]
  },
  {
   "cell_type": "markdown",
   "id": "17f5402a",
   "metadata": {},
   "source": [
    "# Visualisation of the dilated point cloud\n",
    "\n",
    "To visualise the dilated cloud in 3D, we use the *o3d* library, for which it is necessary to transform our output points back to a point cloud object from the *o3d* library:\n",
    "\n",
    "* Note: the predefined axes of the visualisation do not correspond to the actual axes of the cloud.\n",
    "\n",
    "\n"
   ]
  },
  {
   "cell_type": "code",
   "execution_count": null,
   "id": "dab72b01",
   "metadata": {},
   "outputs": [],
   "source": [
    "# Create point cloud object\n",
    "pcd_out = o3d.geometry.PointCloud()\n",
    "\n",
    "# Load points into the object\n",
    "pcd_out.points = o3d.utility.Vector3dVector(dilated_data)\n",
    "\n",
    "# Visualization\n",
    "o3d.visualization.draw_geometries([pcd_out])\n"
   ]
  },
  {
   "cell_type": "markdown",
   "id": "7302bc8b",
   "metadata": {},
   "source": [
    "As can be seen, new points were generated according to the direction and shape of the SE in the input cloud."
   ]
  },
  {
   "cell_type": "markdown",
   "id": "d593391d",
   "metadata": {},
   "source": [
    "# Export dilated point cloud\n",
    "\n",
    "To save the cloud to disk, the *numpy* library and a *txt* cloud format are used. For saving, an address and name of the file to be generated are specified."
   ]
  },
  {
   "cell_type": "code",
   "execution_count": null,
   "id": "0b0d06e6",
   "metadata": {},
   "outputs": [],
   "source": [
    "# Definition of the path and file name\n",
    "ruta = \"Nubes/pc_dilated.txt\"\n",
    "\n",
    "# Save\n",
    "np.savetxt(ruta,dilated_data,delimiter=' ') "
   ]
  },
  {
   "cell_type": "markdown",
   "id": "939795bf",
   "metadata": {},
   "source": [
    "This concludes the morphological dilation tutorial. The application of morphological dilation combined with morphological erosion in morphological opening (for object segmentation) and morphological closing (for gap filling) operations will be presented in the next tutorial."
   ]
  },
  {
   "cell_type": "code",
   "execution_count": null,
   "id": "ad47aaf1",
   "metadata": {},
   "outputs": [],
   "source": []
  }
 ],
 "metadata": {
  "kernelspec": {
   "display_name": "Python 3 (ipykernel)",
   "language": "python",
   "name": "python3"
  },
  "language_info": {
   "codemirror_mode": {
    "name": "ipython",
    "version": 3
   },
   "file_extension": ".py",
   "mimetype": "text/x-python",
   "name": "python",
   "nbconvert_exporter": "python",
   "pygments_lexer": "ipython3",
   "version": "3.7.16"
  }
 },
 "nbformat": 4,
 "nbformat_minor": 5
}
